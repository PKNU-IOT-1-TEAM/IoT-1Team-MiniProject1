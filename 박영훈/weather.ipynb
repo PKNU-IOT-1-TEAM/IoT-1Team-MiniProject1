{
 "cells": [
  {
   "cell_type": "code",
   "execution_count": 16,
   "metadata": {},
   "outputs": [
    {
     "name": "stdout",
     "output_type": "stream",
     "text": [
      "['{\"response\":{\"header\":{\"resultCode\":\"00\",\"resultMsg\":\"NORMAL_SERVICE\"},\"body\":{\"dataType\":\"JSON\",\"items\":{\"item\":[{\"baseDate\":\"20230317\",\"baseTime\":\"0200\",\"category\":\"PTY\",\"nx\":55,\"ny\":127,\"obsrValue\":\"0\"},{\"baseDate\":\"20230317\",\"baseTime\":\"0200\",\"category\":\"REH\",\"nx\":55,\"ny\":127,\"obsrValue\":\"59\"},{\"baseDate\":\"20230317\",\"baseTime\":\"0200\",\"category\":\"RN1\",\"nx\":55,\"ny\":127,\"obsrValue\":\"0\"},{\"baseDate\":\"20230317\",\"baseTime\":\"0200\",\"category\":\"T1H\",\"nx\":55,\"ny\":127,\"obsrValue\":\"-0.5\"},{\"baseDate\":\"20230317\",\"baseTime\":\"0200\",\"category\":\"UUU\",\"nx\":55,\"ny\":127,\"obsrValue\":\"0\"},{\"baseDate\":\"20230317\",\"baseTime\":\"0200\",\"category\":\"VEC\",\"nx\":55,\"ny\":127,\"obsrValue\":\"0\"},{\"baseDate\":\"20230317\",\"baseTime\":\"0200\",\"category\":\"VVV\",\"nx\":55,\"ny\":127,\"obsrValue\":\"0\"},{\"baseDate\":\"20230317\",\"baseTime\":\"0200\",\"category\":\"WSD\",\"nx\":55,\"ny\":127,\"obsrValue\":\"0\"}]},\"pageNo\":1,\"numOfRows\":1000,\"totalCount\":8}}}']\n"
     ]
    }
   ],
   "source": [
    "import requests\n",
    "from urllib.parse import quote, unquote, urlencode  # 한글을 URLencode 변환하는 함수. 롯데 --> '%EB%A1%AF%EB%8D%B0'\n",
    "import json\n",
    "from urllib.request import urlopen\n",
    "\n",
    "\n",
    "def getDataPortalSearch(base_date, base_time):\n",
    "    url = 'http://apis.data.go.kr/1360000/VilageFcstInfoService_2.0/getUltraSrtNcst'\n",
    "    queryString = \"?\" + urlencode(\n",
    "            {\n",
    "                'serviceKey' : 's86nUoT8OvF9KjCQEnAYi6kAQ56CU5iiqDHjh384K4gzAVzXj4qFqiCulxZJuhz9yfgwb87yUG/CmL1hD5RO+g==', \n",
    "                'pageNo' : '1', \n",
    "                'numOfRows' : '1000', \n",
    "                'dataType' : 'JSON', \n",
    "                'base_date' : base_date, \n",
    "                'base_time' : base_time, \n",
    "                'nx' : '98', \n",
    "                'ny' : '76'\n",
    "            }\n",
    "        )\n",
    "\n",
    "    total_url = url + queryString\n",
    "    response = requests.get(total_url, verify=False)\n",
    "    return response.text\n",
    "\n",
    "\n"
   ]
  }
 ],
 "metadata": {
  "kernelspec": {
   "display_name": "Python 3",
   "language": "python",
   "name": "python3"
  },
  "language_info": {
   "codemirror_mode": {
    "name": "ipython",
    "version": 3
   },
   "file_extension": ".py",
   "mimetype": "text/x-python",
   "name": "python",
   "nbconvert_exporter": "python",
   "pygments_lexer": "ipython3",
   "version": "3.11.2"
  },
  "orig_nbformat": 4
 },
 "nbformat": 4,
 "nbformat_minor": 2
}
